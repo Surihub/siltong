import random
import pandas as pd

# 데이터를 저장할 빈 리스트 생성
data = []

# 데이터 포인트 수
num_samples = 1000

for _ in range(num_samples):
    # 각 데이터 포인트에 대한 랜덤 값 생성
    rating = random.uniform(1, 5)  # 랜덤 평점 (1에서 5 사이)
    walk_distance = random.randint(0, 1)  # 랜덤 거리 (0 또는 1)
    cuisine = random.choice(["한식", "일식"])  # 랜덤 음식 종류
    has_cafe = random.choice([True, False])  # 랜덤 카페 여부

    # 데이터 포인트 생성 및 리스트에 추가
    data_point = {
        "평점": rating,
        "지하철_도보_1분": walk_distance,
        "음식_종류": cuisine,
        "근처_카페_여부": has_cafe
    }
    data.append(data_point)

# 데이터를 데이터프레임으로 변환
df = pd.DataFrame(data)

# 평균 평점이 4.5 이상인 데이터 선택
filtered_df = df[df["평점"] >= 4.5]

# 결과를 출력
print("총 데이터 개수:", len(df))
print("평균 평점 4.5 이상 데이터 개수:", len(filtered_df))

# 데이터 저장 (선택 사항)
filtered_df#.to_csv("decision_tree_data.csv", index=False)

